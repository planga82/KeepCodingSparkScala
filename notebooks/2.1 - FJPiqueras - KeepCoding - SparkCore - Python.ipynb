{
 "cells": [
  {
   "cell_type": "markdown",
   "metadata": {},
   "source": [
    "# Módulo Spark & Scala\n",
    "\n",
    "## Spark Core\n",
    "#### @FJPiqueras - KeepCoding\n",
    "\n",
    "#### A tener en cuenta que los notebooks de jupyter generan por defecto:\n",
    "\n",
    "##### SparkContext en la variable sc\n",
    "##### SparkSession en la variable spark\n",
    "\n",
    "##### Notebook powered by PySpark\n"
   ]
  },
  {
   "cell_type": "code",
   "execution_count": 11,
   "metadata": {},
   "outputs": [],
   "source": [
    "text_file = sc.textFile(\"Datasets/quijote.txt\")"
   ]
  },
  {
   "cell_type": "code",
   "execution_count": 13,
   "metadata": {},
   "outputs": [],
   "source": [
    "countsQuijote = text_file.flatMap(lambda line: line.split(\" \")) \\\n",
    "             .map(lambda word: (word, 1)) \\\n",
    "             .reduceByKey(lambda a, b: a + b)"
   ]
  },
  {
   "cell_type": "code",
   "execution_count": 14,
   "metadata": {},
   "outputs": [],
   "source": [
    "counts.saveAsTextFile(\"Datasets/output/quijotePy.txt\")\n"
   ]
  },
  {
   "cell_type": "markdown",
   "metadata": {},
   "source": [
    "### Obtener configuración Spark"
   ]
  },
  {
   "cell_type": "code",
   "execution_count": 8,
   "metadata": {},
   "outputs": [
    {
     "name": "stdout",
     "output_type": "stream",
     "text": [
      "spark.app.id=local-1480797223440\n",
      "spark.app.name=PySparkShell\n",
      "spark.driver.host=10.0.2.15\n",
      "spark.driver.port=59834\n",
      "spark.eventLog.dir=/var/log/ipnb\n",
      "spark.eventLog.enabled=true\n",
      "spark.executor.id=driver\n",
      "spark.files=file:/home/vmuser/.ivy2/jars/graphframes_graphframes-0.2.0-spark2.0-s_2.11.jar,file:/home/vmuser/.ivy2/jars/com.typesafe.scala-logging_scala-logging-api_2.11-2.1.2.jar,file:/home/vmuser/.ivy2/jars/com.typesafe.scala-logging_scala-logging-slf4j_2.11-2.1.2.jar,file:/home/vmuser/.ivy2/jars/org.scala-lang_scala-reflect-2.11.0.jar,file:/home/vmuser/.ivy2/jars/org.slf4j_slf4j-api-1.7.7.jar\n",
      "spark.jars=file:/home/vmuser/.ivy2/jars/graphframes_graphframes-0.2.0-spark2.0-s_2.11.jar,file:/home/vmuser/.ivy2/jars/com.typesafe.scala-logging_scala-logging-api_2.11-2.1.2.jar,file:/home/vmuser/.ivy2/jars/com.typesafe.scala-logging_scala-logging-slf4j_2.11-2.1.2.jar,file:/home/vmuser/.ivy2/jars/org.scala-lang_scala-reflect-2.11.0.jar,file:/home/vmuser/.ivy2/jars/org.slf4j_slf4j-api-1.7.7.jar\n",
      "spark.jars.packages=graphframes:graphframes:0.2.0-spark2.0-s_2.11\n",
      "spark.master=local[*]\n",
      "spark.rdd.compress=True\n",
      "spark.serializer.objectStreamReset=100\n",
      "spark.sql.catalogImplementation=hive\n",
      "spark.sql.warehouse.dir=/vagrant/hive/warehouse\n",
      "spark.submit.deployMode=client\n",
      "spark.submit.pyFiles=/home/vmuser/.ivy2/jars/graphframes_graphframes-0.2.0-spark2.0-s_2.11.jar,/home/vmuser/.ivy2/jars/com.typesafe.scala-logging_scala-logging-api_2.11-2.1.2.jar,/home/vmuser/.ivy2/jars/com.typesafe.scala-logging_scala-logging-slf4j_2.11-2.1.2.jar,/home/vmuser/.ivy2/jars/org.scala-lang_scala-reflect-2.11.0.jar,/home/vmuser/.ivy2/jars/org.slf4j_slf4j-api-1.7.7.jar\n"
     ]
    }
   ],
   "source": [
    "print( sc.version )\n",
    "print( sc.appName )\n",
    "sc.appName\n",
    "print( sc.defaultParallelism )\n",
    "print( sc.defaultMinPartitions )\n",
    "print( sc.sparkUser() )\n",
    "print( sc._conf.toDebugString() )"
   ]
  },
  {
   "cell_type": "code",
   "execution_count": 3,
   "metadata": {},
   "outputs": [
    {
     "data": {
      "text/plain": [
       "[('spark.eventLog.enabled', 'true'),\n",
       " ('spark.eventLog.dir', '/var/log/ipnb'),\n",
       " ('spark.master', 'local[*]'),\n",
       " ('spark.submit.deployMode', 'client'),\n",
       " ('spark.app.name', 'PySparkShell')]"
      ]
     },
     "execution_count": 3,
     "metadata": {},
     "output_type": "execute_result"
    }
   ],
   "source": [
    "from pyspark import SparkConf, SparkContext\n",
    "SparkConf().getAll()"
   ]
  },
  {
   "cell_type": "markdown",
   "metadata": {},
   "source": [
    "### Test trivial con RDDS en python"
   ]
  },
  {
   "cell_type": "code",
   "execution_count": 11,
   "metadata": {},
   "outputs": [
    {
     "name": "stdout",
     "output_type": "stream",
     "text": [
      "49995000\n"
     ]
    }
   ],
   "source": [
    "from operator import add\n",
    "\n",
    "l = sc.parallelize( xrange(10000) )\n",
    "print( l.reduce(add) )"
   ]
  },
  {
   "cell_type": "markdown",
   "metadata": {},
   "source": [
    "### Más ejemplos aquí: https://spark.apache.org/examples.html"
   ]
  },
  {
   "cell_type": "code",
   "execution_count": null,
   "metadata": {},
   "outputs": [],
   "source": []
  }
 ],
 "metadata": {
  "kernelspec": {
   "display_name": "Pyspark (Py3)",
   "language": "",
   "name": "pyspark"
  },
  "language_info": {
   "codemirror_mode": {
    "name": "ipython",
    "version": 3
   },
   "file_extension": ".py",
   "mimetype": "text/x-python",
   "name": "python",
   "nbconvert_exporter": "python",
   "pygments_lexer": "ipython3",
   "version": "3.5.2"
  }
 },
 "nbformat": 4,
 "nbformat_minor": 1
}
