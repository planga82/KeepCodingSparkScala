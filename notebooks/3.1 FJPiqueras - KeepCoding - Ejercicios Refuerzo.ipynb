{
 "cells": [
  {
   "cell_type": "markdown",
   "metadata": {},
   "source": [
    "### Refuerzo fundamentos de Scala\n",
    "#### Ejercicio: Calculadora"
   ]
  },
  {
   "cell_type": "code",
   "execution_count": null,
   "metadata": {},
   "outputs": [],
   "source": [
    "val numero1: Double = 5\n",
    "val numero2: Double = 3.45\n",
    "\n",
    "def calc(numero1: Double, numero2: Double, operacion: String): Double = {\n",
    "    println(\"Número 1: \" + numero1)\n",
    "    println(\"Número 2: \" + numero2)\n",
    "    println(\"Operación: \" + operacion)\n",
    "    \n",
    "    var resultado: Double = 0\n",
    "    \n",
    "    operacion match {\n",
    "          case operacion if operacion.equalsIgnoreCase(\"suma\") => resultado = numero1 + numero2\n",
    "          case operacion if operacion.equalsIgnoreCase(\"resta\") => resultado = numero1 - numero2\n",
    "          case operacion if operacion.equalsIgnoreCase(\"multiplicacion\") => resultado = numero1 * numero2\n",
    "          case operacion if operacion.equalsIgnoreCase(\"division\") => resultado = numero1 / numero2\n",
    "          case x => println(\"Operación incorrecta\")\n",
    "    }\n",
    "    \n",
    "    resultado\n",
    "}\n",
    "\n",
    "calc(numero1, numero2, \"suma\")"
   ]
  },
  {
   "cell_type": "markdown",
   "metadata": {},
   "source": [
    "### Refuerzo Spark Core\n",
    "\n",
    "#### Calcular cuantos crimenes se cometieron\n",
    "#### Calcular los crímenes más cometidos\n",
    "#### Calcular la edad media de las víctimas"
   ]
  },
  {
   "cell_type": "code",
   "execution_count": 39,
   "metadata": {},
   "outputs": [
    {
     "data": {
      "text/plain": [
       "data: org.apache.spark.rdd.RDD[String] = Datasets/FBI_CrimeDatasetNYC.csv MapPartitionsRDD[100] at textFile at <console>:28\n",
       "cabecera: String = \"DR Number,Date Reported,Date Occurred,Time Occurred,Area ID,Area Name,Reporting District,Crime Code,Crime Code Description,MO Codes,Victim Age,Victim Sex,Victim Descent,Premise Code,Premise Description,Weapon Used Code,Weapon Description,Status Code,Status Description,Crime Code 1,Crime Code 2,Crime Code 3,Crime Code 4,Address,Cross Street,Location \"\n",
       "rddSinCabecera: org.apache.spark.rdd.RDD[String] = MapPartitionsRDD[101] at filter at <console>:32\n",
       "res32: Long = 1899\n"
      ]
     },
     "execution_count": 39,
     "metadata": {},
     "output_type": "execute_result"
    }
   ],
   "source": [
    "val data = sc.textFile(\"Datasets/FBI_CrimeDatasetNYC.csv\")\n",
    "\n",
    "// Calcular cuantos crimenes se cometieron\n",
    "val cabecera = data.first()\n",
    "val rddSinCabecera = data.filter(row => !row.equals(cabecera))\n",
    "\n",
    "rddSinCabecera.count"
   ]
  },
  {
   "cell_type": "code",
   "execution_count": 46,
   "metadata": {},
   "outputs": [
    {
     "data": {
      "text/plain": [
       "topCrimenes: org.apache.spark.rdd.RDD[(Int, String)] = ShuffledRDD[121] at sortByKey at <console>:31\n"
      ]
     },
     "execution_count": 46,
     "metadata": {},
     "output_type": "execute_result"
    }
   ],
   "source": [
    "// Calcula los crimenes más cometidos\n",
    "val topCrimenes = rddSinCabecera.map(line => line.split(\",\")(8)).map(x => (x,1))\n",
    "                    .reduceByKey(_+_).map(tuple => tuple.swap).sortByKey(false)\n",
    "\n",
    "topCrimenes.saveAsTextFile(\"Datasets/FBI/Topcrimenes.txt\")"
   ]
  },
  {
   "cell_type": "code",
   "execution_count": 71,
   "metadata": {},
   "outputs": [
    {
     "data": {
      "text/plain": [
       "totalVictimas: Long = 1899\n",
       "edadMediaVictimas: Double = 26.026329647182727\n"
      ]
     },
     "execution_count": 71,
     "metadata": {},
     "output_type": "execute_result"
    }
   ],
   "source": [
    "//Calcula edad media de las victimas\n",
    "\n",
    "val totalVictimas = rddSinCabecera.count\n",
    "\n",
    " val edadMediaVictimas = rddSinCabecera.map(edad => {\n",
    "     \n",
    "     try { \n",
    "         if (edad.split(\",\")(11).replace(\" \", \"\").equals(\"\"))\n",
    "             25\n",
    "         else\n",
    "             edad.split(\",\")(11).toInt\n",
    "       } catch {\n",
    "         case ioe: NumberFormatException => 25\n",
    "       }\n",
    " }).sum / totalVictimas\n"
   ]
  }
 ],
 "metadata": {
  "kernelspec": {
   "display_name": "Scala 2.11 (SPylon)",
   "language": "scala",
   "name": "spylon-kernel"
  },
  "language_info": {
   "codemirror_mode": "text/x-scala",
   "file_extension": ".scala",
   "help_links": [
    {
     "text": "MetaKernel Magics",
     "url": "https://github.com/calysto/metakernel/blob/master/metakernel/magics/README.md"
    }
   ],
   "mimetype": "text/x-scala",
   "name": "scala",
   "pygments_lexer": "scala",
   "version": "0.4.0"
  }
 },
 "nbformat": 4,
 "nbformat_minor": 2
}
