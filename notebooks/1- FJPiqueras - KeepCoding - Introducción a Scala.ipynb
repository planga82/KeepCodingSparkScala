{
 "cells": [
  {
   "cell_type": "markdown",
   "metadata": {},
   "source": [
    "# Módulo Spark & Scala\n",
    "\n",
    "## Introducción a Scala\n",
    "#### @FJPiqueras - KeepCoding"
   ]
  },
  {
   "cell_type": "code",
   "execution_count": 35,
   "metadata": {},
   "outputs": [
    {
     "name": "stdout",
     "output_type": "stream",
     "text": [
      "Hello, World\n"
     ]
    }
   ],
   "source": [
    "println(\"Hello, World\")\n"
   ]
  },
  {
   "cell_type": "code",
   "execution_count": 36,
   "metadata": {},
   "outputs": [
    {
     "data": {
      "text/plain": [
       "res29: Int = 35\n"
      ]
     },
     "execution_count": 36,
     "metadata": {},
     "output_type": "execute_result"
    }
   ],
   "source": [
    "5 * 7"
   ]
  },
  {
   "cell_type": "code",
   "execution_count": 37,
   "metadata": {},
   "outputs": [
    {
     "data": {
      "text/plain": [
       "res30: Int = 70\n"
      ]
     },
     "execution_count": 37,
     "metadata": {},
     "output_type": "execute_result"
    }
   ],
   "source": [
    "//Obtener nombre variable anterior compilación\n",
    "res29 *2"
   ]
  },
  {
   "cell_type": "code",
   "execution_count": 6,
   "metadata": {},
   "outputs": [
    {
     "data": {
      "text/plain": [
       "a: Int = 1\n",
       "b: Double = 2.5\n",
       "res5: Int = 2\n"
      ]
     },
     "execution_count": 6,
     "metadata": {},
     "output_type": "execute_result"
    }
   ],
   "source": [
    "val a : Int = 1\n",
    "val b : Double = 2.5\n",
    "\n",
    "a + b\n",
    "a / b\n",
    "a % b\n",
    "\n",
    "b.toString\n",
    "b.getClass\n",
    "b.toInt"
   ]
  },
  {
   "cell_type": "markdown",
   "metadata": {},
   "source": [
    "### Definición de valores"
   ]
  },
  {
   "cell_type": "code",
   "execution_count": 48,
   "metadata": {},
   "outputs": [
    {
     "data": {
      "text/plain": [
       "flag: Boolean = false\n",
       "result: Boolean = true\n",
       "texto: String = Hello World\n",
       "num: Int = 10\n",
       "decimal: Double = 10.01\n",
       "numFloat: Float = 1.0E9\n"
      ]
     },
     "execution_count": 48,
     "metadata": {},
     "output_type": "execute_result"
    }
   ],
   "source": [
    "val flag: Boolean = false\n",
    "val result: Boolean = (flag == false)\n",
    "val texto: String = \"Hello World\"\n",
    "val num: Int = 10\n",
    "val decimal: Double = 10.01\n",
    "val numFloat: Float = 1000000000\n"
   ]
  },
  {
   "cell_type": "markdown",
   "metadata": {},
   "source": [
    "### Variables - Mutables (var) e inmutables (val)"
   ]
  },
  {
   "cell_type": "code",
   "execution_count": 24,
   "metadata": {},
   "outputs": [
    {
     "name": "stdout",
     "output_type": "stream",
     "text": [
      "6\n",
      "(6.2,Hola Mundo!)\n",
      "(6.2,Hola Mundo!)\n",
      "(double,class java.lang.String)\n"
     ]
    },
    {
     "data": {
      "text/plain": [
       "a: Int = 6\n",
       "a: Int = 6\n",
       "v1: Double = 6.2\n",
       "v2: String = Hola Mundo!\n",
       "v3: Double = 6.2\n",
       "v4: String = Hola Mundo!\n"
      ]
     },
     "execution_count": 24,
     "metadata": {},
     "output_type": "execute_result"
    }
   ],
   "source": [
    "//Explícitos\n",
    "// Variables mutables implícitos\n",
    "var a: Int = 5\n",
    "a = a + 1\n",
    "println(a)\n",
    "\n",
    "// Variables inmutables implícitos\n",
    "val v1: Double = 6.2\n",
    "val v2: String = \"Hola Mundo!\"\n",
    "println( v1, v2)\n",
    "\n",
    "//Implícitos\n",
    "// Lo mismo de antes, pero infiriendo el tipado\n",
    "val v3 = 6.2\n",
    "val v4 = \"Hola Mundo!\"\n",
    "println( v3, v4)\n",
    "println( v3.getClass, v4.getClass )"
   ]
  },
  {
   "cell_type": "markdown",
   "metadata": {},
   "source": [
    "### Interpolación de Strings"
   ]
  },
  {
   "cell_type": "code",
   "execution_count": 28,
   "metadata": {},
   "outputs": [
    {
     "data": {
      "text/plain": [
       "comida: String = hamburguesa\n"
      ]
     },
     "execution_count": 28,
     "metadata": {},
     "output_type": "execute_result"
    }
   ],
   "source": [
    "val comida = \"hamburguesa\""
   ]
  },
  {
   "cell_type": "code",
   "execution_count": 29,
   "metadata": {},
   "outputs": [
    {
     "data": {
      "text/plain": [
       "res22: String = ¿Cómo te gustan las hamburguesas?\n"
      ]
     },
     "execution_count": 29,
     "metadata": {},
     "output_type": "execute_result"
    }
   ],
   "source": [
    "s\"¿Cómo te gustan las ${objeto}s?\""
   ]
  },
  {
   "cell_type": "code",
   "execution_count": 54,
   "metadata": {},
   "outputs": [
    {
     "data": {
      "text/plain": [
       "res35: String = Operaciones con la interpolación de strings ham\n"
      ]
     },
     "execution_count": 54,
     "metadata": {},
     "output_type": "execute_result"
    }
   ],
   "source": [
    "//%.3s obtiene los tres primeros caracteres de\n",
    "f\"Operaciones con la interpolación de strings $comida%.3s\""
   ]
  },
  {
   "cell_type": "code",
   "execution_count": 58,
   "metadata": {},
   "outputs": [
    {
     "data": {
      "text/plain": [
       "amount: Double = 2.7255\n",
       "s: String = Me debes $2.73 dólares\n"
      ]
     },
     "execution_count": 58,
     "metadata": {},
     "output_type": "execute_result"
    }
   ],
   "source": [
    "//$$$amount%.2f Obtiene los dos decimales más significativos\n",
    "val amount = 2.7255\n",
    "val s = f\"Me debes $$$amount%.2f dólares\""
   ]
  },
  {
   "cell_type": "markdown",
   "metadata": {},
   "source": [
    "### Ejercicio 1 - Desarolla un conversor de temperatura Celsius - Farenheit\n",
    "\n",
    "### Fórmula T(°F) = T(°C) × 9/5 + 32"
   ]
  },
  {
   "cell_type": "code",
   "execution_count": 52,
   "metadata": {},
   "outputs": [
    {
     "name": "stdout",
     "output_type": "stream",
     "text": [
      "44.6"
     ]
    },
    {
     "data": {
      "text/plain": [
       "celsius: Int = 7\n",
       "fahr1: Int = 63\n",
       "fahr2: Double = 12.6\n",
       "fahrenheit: Double = 44.6\n"
      ]
     },
     "execution_count": 52,
     "metadata": {},
     "output_type": "execute_result"
    }
   ],
   "source": [
    "//Solución\n",
    "val celsius = 7\n",
    "val fahr1 = celsius * 9 \n",
    "val fahr2 = fahr1 / 5.0\n",
    "val fahrenheit = fahr2 + 32\n",
    "\n",
    "print(fahrenheit)"
   ]
  },
  {
   "cell_type": "markdown",
   "metadata": {},
   "source": [
    "### Definición de funciones"
   ]
  },
  {
   "cell_type": "code",
   "execution_count": 3,
   "metadata": {},
   "outputs": [
    {
     "data": {
      "text/plain": [
       "fact: (n: Int)Int\n"
      ]
     },
     "execution_count": 3,
     "metadata": {},
     "output_type": "execute_result"
    }
   ],
   "source": [
    "def fact(n: Int): Int =  if (n == 0) 1 else n*fact(n-1)"
   ]
  },
  {
   "cell_type": "code",
   "execution_count": 15,
   "metadata": {},
   "outputs": [
    {
     "data": {
      "text/plain": [
       "multiplicador: (x: Int, y: Int)Int\n",
       "res10: Int = 42\n"
      ]
     },
     "execution_count": 15,
     "metadata": {},
     "output_type": "execute_result"
    }
   ],
   "source": [
    "def multiplicador (x: Int, y: Int): Int = {x * y}\n",
    "multiplicador (6, 7)\n"
   ]
  },
  {
   "cell_type": "code",
   "execution_count": 20,
   "metadata": {},
   "outputs": [
    {
     "name": "stdout",
     "output_type": "stream",
     "text": [
      "Got value de 2.24\n"
     ]
    },
    {
     "data": {
      "text/plain": [
       "log: (d: Double)Unit\n"
      ]
     },
     "execution_count": 20,
     "metadata": {},
     "output_type": "execute_result"
    }
   ],
   "source": [
    "def log (d: Double): Unit = println(f\"Got value de $d%.2f\")\n",
    "log (2.23535)"
   ]
  },
  {
   "cell_type": "code",
   "execution_count": 5,
   "metadata": {},
   "outputs": [
    {
     "data": {
      "text/plain": [
       "res3: Int = 3628800\n"
      ]
     },
     "execution_count": 5,
     "metadata": {},
     "output_type": "execute_result"
    }
   ],
   "source": [
    "fact(10)"
   ]
  },
  {
   "cell_type": "markdown",
   "metadata": {},
   "source": [
    "### Funciones anónimas"
   ]
  },
  {
   "cell_type": "code",
   "execution_count": 9,
   "metadata": {},
   "outputs": [
    {
     "data": {
      "text/plain": [
       "cubo: Int => Int = <function1>\n",
       "res7: Int = 343\n"
      ]
     },
     "execution_count": 9,
     "metadata": {},
     "output_type": "execute_result"
    }
   ],
   "source": [
    "val cubo = (x : Int)  => x*x*x\n",
    "\n",
    "cubo(7)"
   ]
  },
  {
   "cell_type": "markdown",
   "metadata": {},
   "source": [
    "### Mismo concepto, pero especificando el valor de salida"
   ]
  },
  {
   "cell_type": "code",
   "execution_count": 8,
   "metadata": {},
   "outputs": [
    {
     "data": {
      "text/plain": [
       "cubo: Int => Double = <function1>\n",
       "res6: Double = 125.0\n"
      ]
     },
     "execution_count": 8,
     "metadata": {},
     "output_type": "execute_result"
    }
   ],
   "source": [
    "val cubo: Int => Double = x => x*x*x\n",
    "\n",
    "cubo(5)"
   ]
  },
  {
   "cell_type": "code",
   "execution_count": 10,
   "metadata": {},
   "outputs": [
    {
     "name": "stdout",
     "output_type": "stream",
     "text": [
      "(343,121)"
     ]
    },
    {
     "data": {
      "text/plain": [
       "cubeOrSquare: Int => Int = <function1>\n"
      ]
     },
     "execution_count": 10,
     "metadata": {},
     "output_type": "execute_result"
    }
   ],
   "source": [
    "val cubeOrSquare = (x: Int) => { if( x < 10 )\n",
    "                                    x*x*x\n",
    "                                 else\n",
    "                                    x*x }\n",
    "                                    \n",
    "print( cubeOrSquare(7), cubeOrSquare(11) )"
   ]
  },
  {
   "cell_type": "code",
   "execution_count": 53,
   "metadata": {},
   "outputs": [
    {
     "name": "stdout",
     "output_type": "stream",
     "text": [
      "8"
     ]
    },
    {
     "data": {
      "text/plain": [
       "applySquared: (func: Int => Int, value: Int)Int\n",
       "minusOne: Int => Int = <function1>\n",
       "res34: Int = 38\n"
      ]
     },
     "execution_count": 53,
     "metadata": {},
     "output_type": "execute_result"
    }
   ],
   "source": [
    "\n",
    "//Una función que llama a otra función y aplica la función\n",
    "def applySquared( func: Int => Int, value: Int) = func( value*value )\n",
    "\n",
    "// Desarollamos la función que se le pasará a la anterior.\n",
    "val minusOne = (x : Int) => x - 1\n",
    "\n",
    "// Esto realizará x^2 - 1\n",
    "print( applySquared( minusOne, 3 ) )\n",
    "\n",
    "// También podemos pasar una función anónima. Esto es x^2 + 2\n",
    "applySquared( _ + 2, 6 )"
   ]
  },
  {
   "cell_type": "markdown",
   "metadata": {},
   "source": [
    "### Ejercicio 2: Reescribe el ejercicio anterior (Conversor de celsius a farenheit usando funciones)"
   ]
  },
  {
   "cell_type": "code",
   "execution_count": 67,
   "metadata": {},
   "outputs": [
    {
     "name": "stdout",
     "output_type": "stream",
     "text": [
      "77.0"
     ]
    },
    {
     "data": {
      "text/plain": [
       "conversorCelsiusToFarenheit: (inputCelsius: Double)Double\n"
      ]
     },
     "execution_count": 67,
     "metadata": {},
     "output_type": "execute_result"
    }
   ],
   "source": [
    "def conversorCelsiusToFarenheit(inputCelsius: Double) : Double = {\n",
    "    \n",
    "    ((inputCelsius *9)/5) + 32\n",
    "}\n",
    "\n",
    "print(conversorCelsiusToFarenheit(25))"
   ]
  },
  {
   "cell_type": "markdown",
   "metadata": {},
   "source": [
    "### Castings"
   ]
  },
  {
   "cell_type": "code",
   "execution_count": 62,
   "metadata": {},
   "outputs": [
    {
     "data": {
      "text/plain": [
       "origen: Int = 128\n",
       "c: Char = \n",
       "s: String = \n",
       "d: Double = 128.0\n",
       "i: Int = 128\n"
      ]
     },
     "execution_count": 62,
     "metadata": {},
     "output_type": "execute_result"
    }
   ],
   "source": [
    "val origen = 128\n",
    "val c: Char = origen.toChar\n",
    "val s: String = c.toString\n",
    "val d: Double = s(0).toDouble\n",
    "val i: Int = d.toInt"
   ]
  },
  {
   "cell_type": "markdown",
   "metadata": {},
   "source": [
    "### Expresiones y Condicionales"
   ]
  },
  {
   "cell_type": "code",
   "execution_count": 70,
   "metadata": {},
   "outputs": [
    {
     "data": {
      "text/plain": [
       "nombre: String = FJPiqueras\n"
      ]
     },
     "execution_count": 70,
     "metadata": {},
     "output_type": "execute_result"
    }
   ],
   "source": [
    "val nombre = \"FJPiqueras\"\n"
   ]
  },
  {
   "cell_type": "code",
   "execution_count": 73,
   "metadata": {},
   "outputs": [
    {
     "data": {
      "text/plain": [
       "importe: Double = 2.143\n",
       "res48: String = greater\n"
      ]
     },
     "execution_count": 73,
     "metadata": {},
     "output_type": "execute_result"
    }
   ],
   "source": [
    "//Condiciones If\n",
    "val importe = 2.143\n",
    "\n",
    "if (importe > 0)\n",
    "    \"greater\" \n",
    "else if (importe < 0)\n",
    "    \"lesser\" \n",
    "else \"same\""
   ]
  },
  {
   "cell_type": "code",
   "execution_count": 77,
   "metadata": {},
   "outputs": [
    {
     "name": "stdout",
     "output_type": "stream",
     "text": [
      "2.143"
     ]
    },
    {
     "data": {
      "text/plain": [
       "res51: String = greater\n"
      ]
     },
     "execution_count": 77,
     "metadata": {},
     "output_type": "execute_result"
    }
   ],
   "source": [
    "//Expresiones\n",
    "print(importe)\n",
    "\n",
    "importe match {   \n",
    "         case x if x > 0 => \"greater\"\n",
    "     |   case x if x < 0 => \"lesser\"\n",
    "     |   case x => \"same\"\n",
    "     | }"
   ]
  },
  {
   "cell_type": "markdown",
   "metadata": {},
   "source": [
    "### Bucles"
   ]
  },
  {
   "cell_type": "code",
   "execution_count": 80,
   "metadata": {},
   "outputs": [
    {
     "name": "stdout",
     "output_type": "stream",
     "text": [
      "1, 2, 3, 4, 5, \n",
      "6, 7, 8, 9, 10, \n",
      "11, 12, 13, 14, 15, \n",
      "16, 17, 18, 19, 20, \n",
      "21, 22, 23, 24, 25, \n",
      "26, 27, 28, 29, 30, \n",
      "31, 32, 33, 34, 35, \n",
      "36, 37, 38, 39, 40, \n",
      "41, 42, 43, 44, 45, \n",
      "46, 47, 48, 49, 50, \n",
      "51, 52, 53, 54, 55, \n",
      "56, 57, 58, 59, 60, \n",
      "61, 62, 63, 64, 65, \n",
      "66, 67, 68, 69, 70, \n",
      "71, 72, 73, 74, 75, \n",
      "76, 77, 78, 79, 80, \n",
      "81, 82, 83, 84, 85, \n",
      "86, 87, 88, 89, 90, \n",
      "91, 92, 93, 94, 95, \n",
      "96, 97, 98, 99, 100, \n"
     ]
    }
   ],
   "source": [
    "for (i <- 1 to 100 by 5) { \n",
    "    for (j <- i to (i + 4)) { \n",
    "        print(s\"$j, \") }  \n",
    "    \n",
    "    println(\"\")\n",
    "}\n"
   ]
  },
  {
   "cell_type": "code",
   "execution_count": 81,
   "metadata": {
    "collapsed": true
   },
   "outputs": [
    {
     "name": "stdout",
     "output_type": "stream",
     "text": [
      "1\n",
      "2\n",
      "type\n",
      "4\n",
      "safe\n",
      "type\n",
      "7\n",
      "8\n",
      "type\n",
      "safe\n",
      "11\n",
      "type\n",
      "13\n",
      "14\n",
      "typesafe\n",
      "16\n",
      "17\n",
      "type\n",
      "19\n",
      "safe\n",
      "type\n",
      "22\n",
      "23\n",
      "type\n",
      "safe\n",
      "26\n",
      "type\n",
      "28\n",
      "29\n",
      "typesafe\n",
      "31\n",
      "32\n",
      "type\n",
      "34\n",
      "safe\n",
      "type\n",
      "37\n",
      "38\n",
      "type\n",
      "safe\n",
      "41\n",
      "type\n",
      "43\n",
      "44\n",
      "typesafe\n",
      "46\n",
      "47\n",
      "type\n",
      "49\n",
      "safe\n",
      "type\n",
      "52\n",
      "53\n",
      "type\n",
      "safe\n",
      "56\n",
      "type\n",
      "58\n",
      "59\n",
      "typesafe\n",
      "61\n",
      "62\n",
      "type\n",
      "64\n",
      "safe\n",
      "type\n",
      "67\n",
      "68\n",
      "type\n",
      "safe\n",
      "71\n",
      "type\n",
      "73\n",
      "74\n",
      "typesafe\n",
      "76\n",
      "77\n",
      "type\n",
      "79\n",
      "safe\n",
      "type\n",
      "82\n",
      "83\n",
      "type\n",
      "safe\n",
      "86\n",
      "type\n",
      "88\n",
      "89\n",
      "typesafe\n",
      "91\n",
      "92\n",
      "type\n",
      "94\n",
      "safe\n",
      "type\n",
      "97\n",
      "98\n",
      "type\n",
      "safe\n"
     ]
    }
   ],
   "source": [
    "for (i <- 1 to 100) {\n",
    "      i match {\n",
    "          case x if x % 15 == 0 => println(\"typesafe\")\n",
    "          case x if x % 5 == 0 => println(\"safe\")\n",
    "          case x if x % 3 == 0 => println(\"type\")\n",
    "          case x => println(x)\n",
    "    }\n",
    "}\n"
   ]
  },
  {
   "cell_type": "code",
   "execution_count": 82,
   "metadata": {
    "collapsed": true
   },
   "outputs": [
    {
     "name": "stdout",
     "output_type": "stream",
     "text": [
      "1\n",
      "2\n",
      "type\n",
      "4\n",
      "safe\n",
      "type\n",
      "7\n",
      "8\n",
      "type\n",
      "safe\n",
      "11\n",
      "type\n",
      "13\n",
      "14\n",
      "typesafe\n",
      "16\n",
      "17\n",
      "type\n",
      "19\n",
      "safe\n",
      "type\n",
      "22\n",
      "23\n",
      "type\n",
      "safe\n",
      "26\n",
      "type\n",
      "28\n",
      "29\n",
      "typesafe\n",
      "31\n",
      "32\n",
      "type\n",
      "34\n",
      "safe\n",
      "type\n",
      "37\n",
      "38\n",
      "type\n",
      "safe\n",
      "41\n",
      "type\n",
      "43\n",
      "44\n",
      "typesafe\n",
      "46\n",
      "47\n",
      "type\n",
      "49\n",
      "safe\n",
      "type\n",
      "52\n",
      "53\n",
      "type\n",
      "safe\n",
      "56\n",
      "type\n",
      "58\n",
      "59\n",
      "typesafe\n",
      "61\n",
      "62\n",
      "type\n",
      "64\n",
      "safe\n",
      "type\n",
      "67\n",
      "68\n",
      "type\n",
      "safe\n",
      "71\n",
      "type\n",
      "73\n",
      "74\n",
      "typesafe\n",
      "76\n",
      "77\n",
      "type\n",
      "79\n",
      "safe\n",
      "type\n",
      "82\n",
      "83\n",
      "type\n",
      "safe\n",
      "86\n",
      "type\n",
      "88\n",
      "89\n",
      "typesafe\n",
      "91\n",
      "92\n",
      "type\n",
      "94\n",
      "safe\n",
      "type\n",
      "97\n",
      "98\n",
      "type\n",
      "safe\n"
     ]
    }
   ],
   "source": [
    "for (i <- 1 to 100) { var s = \"\"; if (i%3==0) s=\"type\"; if (i%5==0) s+=\"safe\"; if(s.isEmpty) s += i; println(s) }"
   ]
  },
  {
   "cell_type": "code",
   "execution_count": 11,
   "metadata": {},
   "outputs": [
    {
     "name": "stdout",
     "output_type": "stream",
     "text": [
      "Value of a: 10\n",
      "Value of a: 11\n",
      "Value of a: 12\n",
      "Value of a: 13\n",
      "Value of a: 14\n",
      "Value of a: 15\n",
      "Value of a: 16\n",
      "Value of a: 17\n",
      "Value of a: 18\n",
      "Value of a: 19\n"
     ]
    },
    {
     "data": {
      "text/plain": [
       "a: Int = 20\n"
      ]
     },
     "execution_count": 11,
     "metadata": {},
     "output_type": "execute_result"
    }
   ],
   "source": [
    "//While - no recomendado\n",
    "var a = 10;\n",
    "\n",
    "while( a < 20 ){\n",
    "    println( \"Value of a: \" + a );a = a + 1;\n",
    "}"
   ]
  },
  {
   "cell_type": "markdown",
   "metadata": {},
   "source": [
    "### Ejercicio 3 - Recorre los valores de la lista e imprimelos por pantalla en mayúscula - Usa for y while"
   ]
  },
  {
   "cell_type": "code",
   "execution_count": 112,
   "metadata": {},
   "outputs": [
    {
     "name": "stdout",
     "output_type": "stream",
     "text": [
      "APPLE\n",
      "BANANA\n",
      "ORANGE\n",
      "------\n",
      "APPLE\n",
      "BANANA\n",
      "ORANGE\n",
      "------\n",
      "APPLE\n",
      "BANANA\n",
      "ORANGE\n"
     ]
    },
    {
     "data": {
      "text/plain": [
       "a: Array[String] = Array(apple, banana, orange)\n",
       "contador: Int = 3\n"
      ]
     },
     "execution_count": 112,
     "metadata": {},
     "output_type": "execute_result"
    }
   ],
   "source": [
    "//Solución\n",
    "val a = Array(\"apple\", \"banana\", \"orange\")\n",
    "\n",
    "for (e <- a) println(e.toUpperCase)\n",
    "\n",
    "println(\"------\")\n",
    "\n",
    "for (i <- 0 until a.length) {\n",
    "    println(a(i).toUpperCase)\n",
    "}\n",
    "\n",
    "println (\"------\")\n",
    "\n",
    "var contador: Int = 0;\n",
    "while (contador < a.length){\n",
    "    println(a(contador).toUpperCase)\n",
    "    contador +=1\n",
    "}"
   ]
  },
  {
   "cell_type": "markdown",
   "metadata": {},
   "source": [
    "### Colecciones"
   ]
  },
  {
   "cell_type": "code",
   "execution_count": 13,
   "metadata": {},
   "outputs": [
    {
     "data": {
      "text/plain": [
       "l: List[Int] = List(1, 2, 3, 4, 5)\n"
      ]
     },
     "execution_count": 13,
     "metadata": {},
     "output_type": "execute_result"
    }
   ],
   "source": [
    "var l = List( 1, 2, 3, 4, 5 )"
   ]
  },
  {
   "cell_type": "code",
   "execution_count": 14,
   "metadata": {},
   "outputs": [
    {
     "data": {
      "text/plain": [
       "res11: List[Int] = List(5, 4, 3, 2, 1)\n"
      ]
     },
     "execution_count": 14,
     "metadata": {},
     "output_type": "execute_result"
    }
   ],
   "source": [
    "l.reverse"
   ]
  },
  {
   "cell_type": "code",
   "execution_count": 15,
   "metadata": {},
   "outputs": [
    {
     "data": {
      "text/plain": [
       "s: scala.collection.immutable.Set[String] = Set(a, b, c, d)\n"
      ]
     },
     "execution_count": 15,
     "metadata": {},
     "output_type": "execute_result"
    }
   ],
   "source": [
    "var s = Set( \"a\", \"b\", \"c\", \"d\")"
   ]
  },
  {
   "cell_type": "code",
   "execution_count": 16,
   "metadata": {},
   "outputs": [
    {
     "data": {
      "text/plain": [
       "res12: Boolean = true\n"
      ]
     },
     "execution_count": 16,
     "metadata": {},
     "output_type": "execute_result"
    }
   ],
   "source": [
    "s.contains( \"c\" )"
   ]
  },
  {
   "cell_type": "code",
   "execution_count": 17,
   "metadata": {},
   "outputs": [
    {
     "data": {
      "text/plain": [
       "res13: scala.collection.immutable.Set[String] = Set(a, c)\n"
      ]
     },
     "execution_count": 17,
     "metadata": {},
     "output_type": "execute_result"
    }
   ],
   "source": [
    "s & Set(\"a\",\"c\",\"f\")"
   ]
  },
  {
   "cell_type": "markdown",
   "metadata": {},
   "source": [
    "### Operaciones con colecciones - Este tipo de operaciones son esenciales en Spark"
   ]
  },
  {
   "cell_type": "code",
   "execution_count": 63,
   "metadata": {},
   "outputs": [
    {
     "data": {
      "text/plain": [
       "numbers: List[Int] = List(1, 2, 3, 4)\n",
       "res41: List[Int] = List(2, 4, 6, 8)\n"
      ]
     },
     "execution_count": 63,
     "metadata": {},
     "output_type": "execute_result"
    }
   ],
   "source": [
    "val numbers = List(1,2,3,4)\n",
    "\n",
    "numbers.map( x => 2 * x ) "
   ]
  },
  {
   "cell_type": "code",
   "execution_count": 19,
   "metadata": {},
   "outputs": [
    {
     "data": {
      "text/plain": [
       "res15: List[Int] = List(2, 4, 6, 8)\n"
      ]
     },
     "execution_count": 19,
     "metadata": {},
     "output_type": "execute_result"
    }
   ],
   "source": [
    "numbers.map( 2 * _ ) "
   ]
  },
  {
   "cell_type": "code",
   "execution_count": 20,
   "metadata": {},
   "outputs": [
    {
     "data": {
      "text/plain": [
       "res16: List[Int] = List(1, 2)\n"
      ]
     },
     "execution_count": 20,
     "metadata": {},
     "output_type": "execute_result"
    }
   ],
   "source": [
    "numbers.filter( _ <= 2 )"
   ]
  },
  {
   "cell_type": "code",
   "execution_count": 21,
   "metadata": {},
   "outputs": [
    {
     "data": {
      "text/plain": [
       "res17: Int = 10\n"
      ]
     },
     "execution_count": 21,
     "metadata": {},
     "output_type": "execute_result"
    }
   ],
   "source": [
    "numbers.reduceLeft( (a, b) => a + b )"
   ]
  },
  {
   "cell_type": "code",
   "execution_count": 22,
   "metadata": {},
   "outputs": [
    {
     "data": {
      "text/plain": [
       "res18: Int = 10\n"
      ]
     },
     "execution_count": 22,
     "metadata": {},
     "output_type": "execute_result"
    }
   ],
   "source": [
    "numbers.reduceLeft( _ + _ )"
   ]
  },
  {
   "cell_type": "markdown",
   "metadata": {},
   "source": [
    "### Mapas "
   ]
  },
  {
   "cell_type": "code",
   "execution_count": 26,
   "metadata": {},
   "outputs": [
    {
     "name": "stdout",
     "output_type": "stream",
     "text": [
      "(red,16711680)\n",
      "(green,65280)\n",
      "(blue,255)\n"
     ]
    },
    {
     "data": {
      "text/plain": [
       "colorMap: scala.collection.immutable.Map[String,Int] = Map(red -> 16711680, green -> 65280, blue -> 255)\n",
       "res15: List[(String, Int)] = List((red,16711680), (green,65280), (blue,255))\n"
      ]
     },
     "execution_count": 26,
     "metadata": {},
     "output_type": "execute_result"
    }
   ],
   "source": [
    "val colorMap = Map(\"red\"->0xFF0000,\"green\"->0xFF00,\"blue\"->0xFF)\n",
    "\n",
    "colorMap.get(\"red\")\n",
    "for (pairs <- colorMap) { println(pairs) }\n",
    "\n",
    "colorMap.toList"
   ]
  },
  {
   "cell_type": "markdown",
   "metadata": {},
   "source": [
    "### Classes"
   ]
  },
  {
   "cell_type": "code",
   "execution_count": 91,
   "metadata": {},
   "outputs": [
    {
     "name": "stdout",
     "output_type": "stream",
     "text": [
      "(12, 10)\n"
     ]
    },
    {
     "data": {
      "text/plain": [
       "defined class Point\n",
       "p: Point = (12, 10)\n"
      ]
     },
     "execution_count": 91,
     "metadata": {},
     "output_type": "execute_result"
    }
   ],
   "source": [
    "/* Define a class */\n",
    "class Point( xc: Int, yc: Int ) {\n",
    "    var x: Int = xc\n",
    "    var y: Int = yc\n",
    "    def move(dx: Int, dy: Int) {\n",
    "        x = x + dx\n",
    "        y = y + dy\n",
    "    }\n",
    "    override def toString(): String = \"(\" + x + \", \" + y + \")\";\n",
    "}\n",
    "\n",
    "/* Create an instance, and operate with it */\n",
    "val p = new Point( 10, 11 )\n",
    "p.move( 2, -1 )\n",
    "println( p )"
   ]
  },
  {
   "cell_type": "markdown",
   "metadata": {},
   "source": [
    "### POO"
   ]
  },
  {
   "cell_type": "code",
   "execution_count": 99,
   "metadata": {},
   "outputs": [
    {
     "name": "stdout",
     "output_type": "stream",
     "text": [
      "(24, 20)\n"
     ]
    },
    {
     "data": {
      "text/plain": [
       "defined class ColorPoint\n",
       "p: ColorPoint = (24, 20)\n"
      ]
     },
     "execution_count": 99,
     "metadata": {},
     "output_type": "execute_result"
    }
   ],
   "source": [
    "class ColorPoint(u: Int, v: Int, c: String) extends Point(u, v) {\n",
    "  val color: String = c\n",
    "  def compareWith(pt: ColorPoint): Boolean =\n",
    "    (pt.x == x) && (pt.y == y) && (pt.color == color)\n",
    "  override def move(dx: Int, dy: Int) {\n",
    "        x = (x + dx) * 2\n",
    "        y = (y + dy) * 2\n",
    "  }\n",
    "}\n",
    "\n",
    "val p = new ColorPoint( 10, 11, \"rojo\" )\n",
    "p.move( 2, -1 )\n",
    "println( p )"
   ]
  },
  {
   "cell_type": "markdown",
   "metadata": {},
   "source": [
    "### Case classes"
   ]
  },
  {
   "cell_type": "code",
   "execution_count": 124,
   "metadata": {},
   "outputs": [
    {
     "name": "stdout",
     "output_type": "stream",
     "text": [
      "javier.piqueras.ruiz@gmail.com\n",
      "email2@gmail.com\n",
      "Hello CaseClasses!\n"
     ]
    },
    {
     "data": {
      "text/plain": [
       "defined class Email\n",
       "email1: Email = Email(javier.piqueras.ruiz@gmail.com,email2@gmail.com,Hello CaseClasses!)\n"
      ]
     },
     "execution_count": 124,
     "metadata": {},
     "output_type": "execute_result"
    }
   ],
   "source": [
    "case class Email(origen: String, destinatario: String, mensaje: String)\n",
    "val email1 = Email(\"javier.piqueras.ruiz@gmail.com\", \"email2@gmail.com\", \"Hello CaseClasses!\")\n",
    "\n",
    "println(email1.origen)\n",
    "println(email1.destinatario)\n",
    "println(email1.mensaje)"
   ]
  },
  {
   "cell_type": "markdown",
   "metadata": {},
   "source": [
    "### Objetos"
   ]
  },
  {
   "cell_type": "code",
   "execution_count": 85,
   "metadata": {},
   "outputs": [
    {
     "data": {
      "text/plain": [
       "defined object HtmlUtils\n"
      ]
     },
     "execution_count": 85,
     "metadata": {},
     "output_type": "execute_result"
    }
   ],
   "source": [
    "object HtmlUtils {\n",
    "  def removeMarkup(input: String) = {\n",
    "    input\n",
    "      .replaceAll(\"(?s)<script.*</script>\", \"\")\n",
    "      .replaceAll(\"\"\"</?\\w[^>]*>\"\"\",\"\")\n",
    "      .replaceAll(\"<.*>\",\"\")\n",
    "  }\n",
    "}\n",
    "\n",
    "val htmlUtils = new HtmlUtils.removeMarkup( 10, 11, \"rojo\" )\n"
   ]
  },
  {
   "cell_type": "markdown",
   "metadata": {},
   "source": [
    "### Tuplas"
   ]
  },
  {
   "cell_type": "code",
   "execution_count": 10,
   "metadata": {},
   "outputs": [
    {
     "data": {
      "text/plain": [
       "info: (Int, String, Boolean) = (5,korben,true)\n",
       "infoTuple2: (String, String) = (key,value)\n",
       "res8: Class[_ <: (String, String)] = class scala.Tuple2\n"
      ]
     },
     "execution_count": 10,
     "metadata": {},
     "output_type": "execute_result"
    }
   ],
   "source": [
    "val info = (5, \"korben\", true)\n",
    "info.getClass\n",
    "\n",
    "val infoTuple2 = (\"key\", \"value\")\n",
    "infoTuple2.getClass"
   ]
  },
  {
   "cell_type": "code",
   "execution_count": 7,
   "metadata": {},
   "outputs": [
    {
     "name": "stdout",
     "output_type": "stream",
     "text": [
      "Sum of elements: 10\n",
      "()\n"
     ]
    },
    {
     "data": {
      "text/plain": [
       "info: (Int, String, Boolean) = (5,korben,true)\n",
       "tupleExample1: (Int, String, Console.type) = (1,hello,scala.Console$@130dc2a)\n",
       "tupleExample: (Int, String, Console.type) = (1,hello,scala.Console$@130dc2a)\n",
       "defined object Demo\n"
      ]
     },
     "execution_count": 7,
     "metadata": {},
     "output_type": "execute_result"
    }
   ],
   "source": [
    "\n",
    "val tupleExample1 = (1, \"hello\", Console)\n",
    "val tupleExample = new Tuple3(1, \"hello\", Console)\n",
    "\n",
    "object Demo {\n",
    "   def sumaTuplas() {\n",
    "      val tupleExample2 = (4,3,2,1)\n",
    "      val sum = tupleExample2._1 + tupleExample2._2 + tupleExample2._3 + tupleExample2._4\n",
    "\n",
    "      println( \"Sum of elements: \"  + sum )\n",
    "   }\n",
    "}\n",
    "\n",
    "println(Demo.sumaTuplas())"
   ]
  },
  {
   "cell_type": "markdown",
   "metadata": {},
   "source": [
    "### Traits"
   ]
  },
  {
   "cell_type": "code",
   "execution_count": 101,
   "metadata": {},
   "outputs": [
    {
     "data": {
      "text/plain": [
       "defined trait SafeStringUtils\n"
      ]
     },
     "execution_count": 101,
     "metadata": {},
     "output_type": "execute_result"
    }
   ],
   "source": [
    "trait SafeStringUtils {\n",
    "  // Returns a trimmed version of the string wrapped in an Option, \n",
    "  // or None if the trimmed string is empty.\n",
    "  def trimToNone(s: String): Option[String] = {\n",
    "    Option(s) map(_.trim) filterNot(_.isEmpty)\n",
    "  }\n",
    "}\n"
   ]
  },
  {
   "cell_type": "markdown",
   "metadata": {},
   "source": [
    "### Ejercicio 4 : Calcula el módulo de los números de la lista y filtra los impares"
   ]
  },
  {
   "cell_type": "code",
   "execution_count": 130,
   "metadata": {},
   "outputs": [
    {
     "name": "stdout",
     "output_type": "stream",
     "text": [
      "2\n",
      "4\n",
      "8\n",
      "10\n",
      "12\n",
      "14\n"
     ]
    },
    {
     "data": {
      "text/plain": [
       "listaEjercicio4: List[Int] = List(1, 2, 3, 4, 5, 7, 8, 9, 10, 11, 12, 13, 14, 15)\n",
       "mapEjercicio4: List[(Int, Int)] = List((1,1), (2,0), (3,1), (4,0), (5,1), (7,1), (8,0), (9,1), (10,0), (11,1), (12,0), (13,1), (14,0), (15,1))\n",
       "filterEjercicio4: List[(Int, Int)] = List((2,0), (4,0), (8,0), (10,0), (12,0), (14,0))\n"
      ]
     },
     "execution_count": 130,
     "metadata": {},
     "output_type": "execute_result"
    }
   ],
   "source": [
    "//Solución\n",
    "val listaEjercicio4 = List(1,2,3,4,5,7,8,9,10,11,12,13,14,15)\n",
    "\n",
    "\n",
    "val mapEjercicio4 = listaEjercicio4.map(x => new Tuple2(x, x%2))\n",
    "val filterEjercicio4 = mapEjercicio4.filter(y => {y._2==0})\n",
    "\n",
    "filterEjercicio4.foreach(z => println(z._1))"
   ]
  },
  {
   "cell_type": "markdown",
   "metadata": {},
   "source": [
    "### Ejercicio 5 - Define una Clase y CaseClass"
   ]
  },
  {
   "cell_type": "markdown",
   "metadata": {},
   "source": [
    "### Ejercicio 6 - Refuerzo Sesión 1 - Aplica funciones map y filter sobre los objetos definidos en el ejercicio anterior"
   ]
  },
  {
   "cell_type": "code",
   "execution_count": 51,
   "metadata": {},
   "outputs": [
    {
     "data": {
      "text/plain": [
       "defined class Persona\n",
       "listPersonas: List[Persona] = List((464645646c, Javier), (42334234d, Laura), (67576575a, Paco))\n",
       "defined class PersonaCaseClass\n",
       "listPersonasCaseClass: List[PersonaCaseClass] = List(PersonaCaseClass(464645646c,Javier,915464684), PersonaCaseClass(42334234d,Laura,914564132), PersonaCaseClass(67576575a,Paco,915645455))\n"
      ]
     },
     "execution_count": 51,
     "metadata": {},
     "output_type": "execute_result"
    }
   ],
   "source": [
    "class Persona(dniP: String, nombreP: String, telefonoP: Long ) {\n",
    "    var dni : String = dniP\n",
    "    var nombre: String = nombreP\n",
    "    var telefono: Long = telefonoP\n",
    "    \n",
    "    def getNombre() :String ={\n",
    "        nombre\n",
    "    }\n",
    "    \n",
    "    override def toString(): String = \"(\" + dni + \", \" + nombre + \")\";\n",
    "}\n",
    "\n",
    "val listPersonas : List[Persona] = List(new Persona(\"464645646c\", \"Javier\", 915464684), \n",
    "                                        new Persona(\"42334234d\", \"Laura\", 914564132),\n",
    "                                        new Persona(\"67576575a\", \"Paco\", 915645455))\n",
    "\n",
    "\n",
    "//Mejor\n",
    "case class PersonaCaseClass (dniP: String, nombreP: String, telefonoP: Long)\n",
    "\n",
    "val listPersonasCaseClass : List[PersonaCaseClass] = List(new PersonaCaseClass(\"464645646c\", \"Javier\", 915464684), \n",
    "                                        new PersonaCaseClass(\"42334234d\", \"Laura\", 914564132),\n",
    "                                        new PersonaCaseClass(\"67576575a\", \"Paco\", 915645455))\n",
    "\n"
   ]
  },
  {
   "cell_type": "code",
   "execution_count": 55,
   "metadata": {},
   "outputs": [
    {
     "data": {
      "text/plain": [
       "listUnstructured: List[String] = List(3423423A,PEPE,91564654, 2423423B,Santiago,9146545)\n"
      ]
     },
     "execution_count": 55,
     "metadata": {},
     "output_type": "execute_result"
    }
   ],
   "source": [
    "val listUnstructured: List[String] = List(\"3423423A,PEPE,91564654\", \"2423423B,Santiago,9146545\")"
   ]
  },
  {
   "cell_type": "code",
   "execution_count": 58,
   "metadata": {},
   "outputs": [
    {
     "data": {
      "text/plain": [
       "listPersonaMapped: List[Persona] = List((3423423A, PEPE), (2423423B, Santiago))\n"
      ]
     },
     "execution_count": 58,
     "metadata": {},
     "output_type": "execute_result"
    }
   ],
   "source": [
    "val listPersonaMapped: List[Persona] = listUnstructured.map(x => {  \n",
    "    val splitText = x.split(\",\")\n",
    "    new Persona(splitText(0).toString, splitText(1).toString, splitText(2).toLong)\n",
    "})\n",
    "\n",
    "listPersonaMapped.foreach(println(_))\n",
    "listPersonaMapped.filter(x=> {x.getNombre.contains(\"PEPE\")}).size"
   ]
  },
  {
   "cell_type": "code",
   "execution_count": null,
   "metadata": {},
   "outputs": [],
   "source": []
  }
 ],
 "metadata": {
  "celltoolbar": "Raw Cell Format",
  "kernelspec": {
   "display_name": "Scala 2.11 (SPylon)",
   "language": "scala",
   "name": "spylon-kernel"
  },
  "language_info": {
   "codemirror_mode": "text/x-scala",
   "file_extension": ".scala",
   "help_links": [
    {
     "text": "MetaKernel Magics",
     "url": "https://github.com/calysto/metakernel/blob/master/metakernel/magics/README.md"
    }
   ],
   "mimetype": "text/x-scala",
   "name": "scala",
   "pygments_lexer": "scala",
   "version": "0.4.0"
  }
 },
 "nbformat": 4,
 "nbformat_minor": 2
}
